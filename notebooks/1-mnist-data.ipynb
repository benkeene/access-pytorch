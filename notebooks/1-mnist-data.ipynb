{
 "cells": [
  {
   "cell_type": "markdown",
   "metadata": {},
   "source": [
    "# CLASSIFICATION -- MNIST -- CNN"
   ]
  },
  {
   "cell_type": "markdown",
   "metadata": {},
   "source": [
    "`load_ext autoreload` and `autoreload` will automatically reload modules when changed, which helps keep the notebook up to date with your codebase."
   ]
  },
  {
   "cell_type": "code",
   "execution_count": null,
   "metadata": {},
   "outputs": [],
   "source": [
    "%load_ext autoreload\n",
    "%autoreload 2\n",
    "\n",
    "from loguru import logger\n",
    "from tqdm import tqdm"
   ]
  },
  {
   "cell_type": "markdown",
   "metadata": {},
   "source": [
    "`loguru`'s `logger` module is a straightforward logging module -- it exposes `info`, `success`, `warning`, `error`, and others.\n",
    "\n",
    "Very useful as it can be configured to save to disk as well as print to console."
   ]
  },
  {
   "cell_type": "code",
   "execution_count": null,
   "metadata": {},
   "outputs": [],
   "source": [
    "from access_pytorch.dataset import pull_mnist"
   ]
  },
  {
   "cell_type": "markdown",
   "metadata": {},
   "source": [
    "Let's look at the MNIST dataset, in our `dataset.py` file in `access_pytorch`."
   ]
  },
  {
   "cell_type": "code",
   "execution_count": null,
   "metadata": {},
   "outputs": [],
   "source": [
    "# Grab some data, use some for training and some for testing.\n",
    "mnist_train, mnist_test = pull_mnist()"
   ]
  },
  {
   "cell_type": "code",
   "execution_count": null,
   "metadata": {},
   "outputs": [],
   "source": [
    "logger.info(f\"MNIST train: {mnist_train}\")\n",
    "logger.info(f\"MNIST test: {mnist_test}\")"
   ]
  },
  {
   "cell_type": "code",
   "execution_count": null,
   "metadata": {},
   "outputs": [],
   "source": [
    "# Let's look at some of the dataset images.\n",
    "\n",
    "import matplotlib.pyplot as plt\n",
    "import random\n",
    "\n",
    "idx = random.randint(0, len(mnist_train))\n",
    "x, y = mnist_train[idx]\n",
    "plt.imshow(x.numpy()[0], cmap='viridis')\n",
    "plt.title(f\"Label: {y}\")"
   ]
  }
 ],
 "metadata": {
  "kernelspec": {
   "display_name": "access_pytorch",
   "language": "python",
   "name": "python3"
  },
  "language_info": {
   "codemirror_mode": {
    "name": "ipython",
    "version": 3
   },
   "file_extension": ".py",
   "mimetype": "text/x-python",
   "name": "python",
   "nbconvert_exporter": "python",
   "pygments_lexer": "ipython3",
   "version": "3.12.9"
  }
 },
 "nbformat": 4,
 "nbformat_minor": 2
}

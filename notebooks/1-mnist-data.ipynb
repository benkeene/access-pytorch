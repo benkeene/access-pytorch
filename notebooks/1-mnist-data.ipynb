{
 "cells": [
  {
   "cell_type": "markdown",
   "metadata": {},
   "source": [
    "# CLASSIFICATION -- MNIST -- CNN"
   ]
  },
  {
   "cell_type": "markdown",
   "metadata": {},
   "source": [
    "`load_ext autoreload` and `autoreload` will automatically reload modules when changed, which helps keep the notebook up to date with your codebase."
   ]
  },
  {
   "cell_type": "code",
   "execution_count": 2,
   "metadata": {},
   "outputs": [],
   "source": [
    "%load_ext autoreload\n",
    "%autoreload 2\n",
    "\n",
    "from loguru import logger\n",
    "from tqdm import tqdm"
   ]
  },
  {
   "cell_type": "markdown",
   "metadata": {},
   "source": [
    "`loguru`'s `logger` module is a straightforward logging module -- it exposes `info`, `success`, `warning`, `error`, and others.\n",
    "\n",
    "Very useful as it can be configured to save to disk as well as print to console."
   ]
  },
  {
   "cell_type": "code",
   "execution_count": 3,
   "metadata": {},
   "outputs": [
    {
     "name": "stderr",
     "output_type": "stream",
     "text": [
      "\u001b[32m2025-03-11 10:54:15.594\u001b[0m | \u001b[1mINFO    \u001b[0m | \u001b[36maccess_pytorch.config\u001b[0m:\u001b[36m<module>\u001b[0m:\u001b[36m11\u001b[0m - \u001b[1mPROJ_ROOT path is: /Users/ben/access-pytorch\u001b[0m\n"
     ]
    }
   ],
   "source": [
    "from access_pytorch.dataset import pull_mnist"
   ]
  },
  {
   "cell_type": "markdown",
   "metadata": {},
   "source": [
    "Let's look at the MNIST dataset, in our `dataset.py` file in `access_pytorch`."
   ]
  },
  {
   "cell_type": "code",
   "execution_count": 4,
   "metadata": {},
   "outputs": [
    {
     "name": "stdout",
     "output_type": "stream",
     "text": [
      "\u001b[32m2025-03-11 10:54:16.892\u001b[0m | \u001b[1mINFO    \u001b[0m | \u001b[36maccess_pytorch.dataset\u001b[0m:\u001b[36mpull_mnist\u001b[0m:\u001b[36m40\u001b[0m - \u001b[1mPulling MNIST dataset...\u001b[0m\n",
      "\u001b[32m2025-03-11 10:54:16.899\u001b[0m | \u001b[1mINFO    \u001b[0m | \u001b[36maccess_pytorch.dataset\u001b[0m:\u001b[36mpull_mnist\u001b[0m:\u001b[36m45\u001b[0m - \u001b[1mApplying Compose(\n",
      "    ToTensor()\n",
      "    Normalize(mean=(0.1307,), std=(0.3081,))\n",
      ")\u001b[0m\n",
      "\u001b[32m2025-03-11 10:54:16.918\u001b[0m | \u001b[32m\u001b[1mSUCCESS \u001b[0m | \u001b[36maccess_pytorch.dataset\u001b[0m:\u001b[36mpull_mnist\u001b[0m:\u001b[36m50\u001b[0m - \u001b[32m\u001b[1mMNIST dataset processed, split, and transformed.\u001b[0m\n"
     ]
    }
   ],
   "source": [
    "# Grab some data, use some for training and some for testing.\n",
    "mnist_train, mnist_test = pull_mnist()"
   ]
  },
  {
   "cell_type": "code",
   "execution_count": 5,
   "metadata": {},
   "outputs": [
    {
     "name": "stdout",
     "output_type": "stream",
     "text": [
      "\u001b[32m2025-03-11 10:54:16.937\u001b[0m | \u001b[1mINFO    \u001b[0m | \u001b[36m__main__\u001b[0m:\u001b[36m<module>\u001b[0m:\u001b[36m1\u001b[0m - \u001b[1mMNIST train: Dataset MNIST\n",
      "    Number of datapoints: 60000\n",
      "    Root location: /Users/ben/access-pytorch/data/processed\n",
      "    Split: Train\n",
      "    StandardTransform\n",
      "Transform: Compose(\n",
      "               ToTensor()\n",
      "               Normalize(mean=(0.1307,), std=(0.3081,))\n",
      "           )\u001b[0m\n",
      "\u001b[32m2025-03-11 10:54:16.938\u001b[0m | \u001b[1mINFO    \u001b[0m | \u001b[36m__main__\u001b[0m:\u001b[36m<module>\u001b[0m:\u001b[36m2\u001b[0m - \u001b[1mMNIST test: Dataset MNIST\n",
      "    Number of datapoints: 10000\n",
      "    Root location: /Users/ben/access-pytorch/data/processed\n",
      "    Split: Test\n",
      "    StandardTransform\n",
      "Transform: Compose(\n",
      "               ToTensor()\n",
      "               Normalize(mean=(0.1307,), std=(0.3081,))\n",
      "           )\u001b[0m\n"
     ]
    }
   ],
   "source": [
    "logger.info(f\"MNIST train: {mnist_train}\")\n",
    "logger.info(f\"MNIST test: {mnist_test}\")"
   ]
  },
  {
   "cell_type": "code",
   "execution_count": null,
   "metadata": {},
   "outputs": [
    {
     "data": {
      "text/plain": [
       "Text(0.5, 1.0, 'Label: 7')"
      ]
     },
     "execution_count": 53,
     "metadata": {},
     "output_type": "execute_result"
    },
    {
     "data": {
      "image/png": "[encoded data removed]",
      "text/plain": [
       "<Figure size 640x480 with 1 Axes>"
      ]
     },
     "metadata": {},
     "output_type": "display_data"
    }
   ],
   "source": [
    "# Let's look at some of the dataset images.\n",
    "\n",
    "import matplotlib.pyplot as plt\n",
    "import random\n",
    "\n",
    "idx = random.randint(0, len(mnist_train))\n",
    "x, y = mnist_train[idx]\n",
    "plt.imshow(x.numpy()[0], cmap='viridis')\n",
    "plt.title(f\"Label: {y}\")"
   ]
  }
 ],
 "metadata": {
  "kernelspec": {
   "display_name": "access_pytorch",
   "language": "python",
   "name": "python3"
  },
  "language_info": {
   "codemirror_mode": {
    "name": "ipython",
    "version": 3
   },
   "file_extension": ".py",
   "mimetype": "text/x-python",
   "name": "python",
   "nbconvert_exporter": "python",
   "pygments_lexer": "ipython3",
   "version": "3.12.9"
  }
 },
 "nbformat": 4,
 "nbformat_minor": 2
}

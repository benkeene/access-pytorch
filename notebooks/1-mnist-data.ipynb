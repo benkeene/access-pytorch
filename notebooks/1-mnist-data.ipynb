{
 "cells": [
  {
   "cell_type": "markdown",
   "metadata": {},
   "source": []
  },
  {
   "cell_type": "code",
   "execution_count": 1,
   "metadata": {},
   "outputs": [],
   "source": [
    "%load_ext autoreload\n",
    "%autoreload 2\n",
    "\n",
    "from loguru import logger\n",
    "from tqdm import tqdm"
   ]
  },
  {
   "cell_type": "code",
   "execution_count": null,
   "metadata": {},
   "outputs": [],
   "source": []
  },
  {
   "cell_type": "code",
   "execution_count": 2,
   "metadata": {},
   "outputs": [
    {
     "name": "stderr",
     "output_type": "stream",
     "text": [
      "\u001b[32m2025-03-11 08:47:07.216\u001b[0m | \u001b[1mINFO    \u001b[0m | \u001b[36maccess_pytorch.config\u001b[0m:\u001b[36m<module>\u001b[0m:\u001b[36m11\u001b[0m - \u001b[1mPROJ_ROOT path is: /Users/ben/access-pytorch\u001b[0m\n"
     ]
    }
   ],
   "source": [
    "from access_pytorch.dataset import pull_mnist"
   ]
  },
  {
   "cell_type": "code",
   "execution_count": 3,
   "metadata": {},
   "outputs": [
    {
     "name": "stdout",
     "output_type": "stream",
     "text": [
      "\u001b[32m2025-03-11 08:47:08.428\u001b[0m | \u001b[1mINFO    \u001b[0m | \u001b[36maccess_pytorch.dataset\u001b[0m:\u001b[36mpull_mnist\u001b[0m:\u001b[36m35\u001b[0m - \u001b[1mPulling MNIST dataset...\u001b[0m\n",
      "\u001b[32m2025-03-11 08:47:08.437\u001b[0m | \u001b[1mINFO    \u001b[0m | \u001b[36maccess_pytorch.dataset\u001b[0m:\u001b[36mpull_mnist\u001b[0m:\u001b[36m41\u001b[0m - \u001b[1mApplying Compose(\n",
      "    ToTensor()\n",
      "    Normalize(mean=(0.1307,), std=(0.3081,))\n",
      ")\u001b[0m\n",
      "\u001b[32m2025-03-11 08:47:08.453\u001b[0m | \u001b[32m\u001b[1mSUCCESS \u001b[0m | \u001b[36maccess_pytorch.dataset\u001b[0m:\u001b[36mpull_mnist\u001b[0m:\u001b[36m46\u001b[0m - \u001b[32m\u001b[1mMNIST dataset processed, split, and transformed.\u001b[0m\n"
     ]
    }
   ],
   "source": [
    "mnist_train, mnist_test = pull_mnist()"
   ]
  },
  {
   "cell_type": "code",
   "execution_count": 4,
   "metadata": {},
   "outputs": [
    {
     "name": "stdout",
     "output_type": "stream",
     "text": [
      "\u001b[32m2025-03-11 08:47:08.471\u001b[0m | \u001b[1mINFO    \u001b[0m | \u001b[36m__main__\u001b[0m:\u001b[36m<module>\u001b[0m:\u001b[36m1\u001b[0m - \u001b[1mMNIST train: Dataset MNIST\n",
      "    Number of datapoints: 60000\n",
      "    Root location: /Users/ben/access-pytorch/data/processed\n",
      "    Split: Train\n",
      "    StandardTransform\n",
      "Transform: Compose(\n",
      "               ToTensor()\n",
      "               Normalize(mean=(0.1307,), std=(0.3081,))\n",
      "           )\u001b[0m\n",
      "\u001b[32m2025-03-11 08:47:08.471\u001b[0m | \u001b[1mINFO    \u001b[0m | \u001b[36m__main__\u001b[0m:\u001b[36m<module>\u001b[0m:\u001b[36m2\u001b[0m - \u001b[1mMNIST test: Dataset MNIST\n",
      "    Number of datapoints: 10000\n",
      "    Root location: /Users/ben/access-pytorch/data/processed\n",
      "    Split: Test\n",
      "    StandardTransform\n",
      "Transform: Compose(\n",
      "               ToTensor()\n",
      "               Normalize(mean=(0.1307,), std=(0.3081,))\n",
      "           )\u001b[0m\n"
     ]
    }
   ],
   "source": [
    "logger.info(f\"MNIST train: {mnist_train}\")\n",
    "logger.info(f\"MNIST test: {mnist_test}\")"
   ]
  }
 ],
 "metadata": {
  "kernelspec": {
   "display_name": "access_pytorch",
   "language": "python",
   "name": "python3"
  },
  "language_info": {
   "codemirror_mode": {
    "name": "ipython",
    "version": 3
   },
   "file_extension": ".py",
   "mimetype": "text/x-python",
   "name": "python",
   "nbconvert_exporter": "python",
   "pygments_lexer": "ipython3",
   "version": "3.12.9"
  }
 },
 "nbformat": 4,
 "nbformat_minor": 2
}

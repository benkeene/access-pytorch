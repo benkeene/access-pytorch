{
 "cells": [
  {
   "cell_type": "code",
   "execution_count": null,
   "metadata": {},
   "outputs": [],
   "source": [
    "%load_ext autoreload\n",
    "%autoreload 2\n",
    "\n",
    "from loguru import logger\n",
    "from tqdm import tqdm\n",
    "\n",
    "from access_pytorch import config"
   ]
  },
  {
   "cell_type": "code",
   "execution_count": null,
   "metadata": {},
   "outputs": [],
   "source": [
    "import torch\n",
    "\n",
    "from models.nets import MNIST_cnn\n",
    "from access_pytorch.dataset import pull_mnist"
   ]
  },
  {
   "cell_type": "code",
   "execution_count": null,
   "metadata": {},
   "outputs": [],
   "source": [
    "if torch.cuda.is_available():\n",
    "    device = torch.device(\"cuda\")\n",
    "elif torch.backends.mps.is_available():\n",
    "    device = torch.device(\"mps\")\n",
    "else:\n",
    "    device = torch.device(\"cpu\")\n",
    "\n",
    "print(f\"Using device: {device}\")"
   ]
  },
  {
   "cell_type": "code",
   "execution_count": null,
   "metadata": {},
   "outputs": [],
   "source": [
    "import torch.optim as optim\n",
    "from torch.optim.lr_scheduler import StepLR\n",
    "\n",
    "from access_pytorch.modeling.train import mnist_train\n",
    "\n",
    "from access_pytorch.dataset import mnist_loaders\n",
    "\n",
    "mnist_model = MNIST_cnn().to(device)\n",
    "\n",
    "train_kwargs = {'batch_size': 64}\n",
    "test_kwargs={'batch_size': 1000}\n",
    "optim_kwargs = {'lr': 1.0}\n",
    "\n",
    "if torch.cuda.is_available():\n",
    "    cuda_kwargs = {'num_workers': 1,\n",
    "                   'pin_memory': True,\n",
    "                   'shuffle': True}\n",
    "    train_kwargs.update(cuda_kwargs)\n",
    "    test_kwargs.update(cuda_kwargs)\n",
    "\n",
    "log_kwargs = {'log_interval': 50}\n",
    "\n",
    "mnist_train_loader, mnist_test_loader = mnist_loaders(train_kwargs, test_kwargs)\n",
    "\n",
    "optimizer = optim.Adadelta(mnist_model.parameters(), **optim_kwargs)\n",
    "scheduler = StepLR(optimizer, step_size=1, gamma=0.7) # lr_{i+step_size} = gamma * lr_i\n",
    "\n",
    "for epoch in range(1):\n",
    "    mnist_train(args=log_kwargs, model=mnist_model, device=device, train_loader=mnist_train_loader, optimizer=optimizer, epoch=epoch)"
   ]
  },
  {
   "cell_type": "code",
   "execution_count": null,
   "metadata": {},
   "outputs": [],
   "source": [
    "from access_pytorch.modeling.test import mnist_test\n",
    "\n",
    "mnist_test(model=mnist_model, device=device, test_loader=mnist_test_loader)"
   ]
  },
  {
   "cell_type": "code",
   "execution_count": null,
   "metadata": {},
   "outputs": [],
   "source": [
    "torch.save(mnist_model.state_dict(), f\"{config.MODELS_DIR}/mnist_cnn.pth\")\n",
    "mnist_model = MNIST_cnn().to(device)\n",
    "mnist_model.load_state_dict(torch.load(f\"{config.MODELS_DIR}/mnist_cnn.pth\"))"
   ]
  }
 ],
 "metadata": {
  "kernelspec": {
   "display_name": "access_pytorch",
   "language": "python",
   "name": "python3"
  },
  "language_info": {
   "codemirror_mode": {
    "name": "ipython",
    "version": 3
   },
   "file_extension": ".py",
   "mimetype": "text/x-python",
   "name": "python",
   "nbconvert_exporter": "python",
   "pygments_lexer": "ipython3",
   "version": "3.12.9"
  }
 },
 "nbformat": 4,
 "nbformat_minor": 2
}
